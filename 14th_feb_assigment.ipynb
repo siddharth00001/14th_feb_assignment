{
 "cells": [
  {
   "cell_type": "markdown",
   "id": "b10aa3e2-dfe2-477e-ac89-101ca24e0dde",
   "metadata": {},
   "source": [
    "## Q1"
   ]
  },
  {
   "cell_type": "markdown",
   "id": "b5411484-6b58-473d-9f29-c94404c8a256",
   "metadata": {},
   "source": [
    "Mutithreading in python is used to run multiple threads in single processor. The module used to handle the thread is Threading in which args needs to be passed along with target."
   ]
  },
  {
   "cell_type": "code",
   "execution_count": 13,
   "id": "53205e3f-4d67-4520-a05b-561138d96eae",
   "metadata": {},
   "outputs": [],
   "source": [
    "import threading"
   ]
  },
  {
   "cell_type": "code",
   "execution_count": 14,
   "id": "5ab842ed-cc06-4faf-a4ed-e13ee8ccf987",
   "metadata": {},
   "outputs": [],
   "source": [
    "a= [1,2,3,4]\n",
    "def square(i):\n",
    "    print(i **2)\n",
    "thread = [threading.Thread(target=square,args=(i,)) for i in a]"
   ]
  },
  {
   "cell_type": "code",
   "execution_count": 15,
   "id": "8f309b92-3105-4125-822b-b079b6207d4d",
   "metadata": {},
   "outputs": [
    {
     "data": {
      "text/plain": [
       "[<Thread(Thread-17 (square), initial)>,\n",
       " <Thread(Thread-18 (square), initial)>,\n",
       " <Thread(Thread-19 (square), initial)>,\n",
       " <Thread(Thread-20 (square), initial)>]"
      ]
     },
     "execution_count": 15,
     "metadata": {},
     "output_type": "execute_result"
    }
   ],
   "source": [
    "thread"
   ]
  },
  {
   "cell_type": "code",
   "execution_count": 16,
   "id": "a9a9419b-a4a8-4b1f-bd90-96694486083b",
   "metadata": {},
   "outputs": [
    {
     "name": "stdout",
     "output_type": "stream",
     "text": [
      "1\n",
      "4\n",
      "9\n",
      "16\n"
     ]
    }
   ],
   "source": [
    "for t in thread:\n",
    "    t.start()\n",
    "    t.join()"
   ]
  },
  {
   "cell_type": "markdown",
   "id": "9c2ba496-29bd-44d5-9b5e-8b1c6128cfca",
   "metadata": {},
   "source": [
    "## Q2"
   ]
  },
  {
   "cell_type": "markdown",
   "id": "f48ce80b-4392-4fb2-ac5f-0329f342ddcd",
   "metadata": {},
   "source": [
    "Threading module is used to run the multiple thread in single process and take advantage of full utilization of core resources."
   ]
  },
  {
   "cell_type": "markdown",
   "id": "687ba547-e7d8-48c9-9c68-2e107123be40",
   "metadata": {},
   "source": [
    "In threading activeCount function is used to count all the active threads."
   ]
  },
  {
   "cell_type": "code",
   "execution_count": 17,
   "id": "89510018-292c-495a-81b0-c93f2aaa5f66",
   "metadata": {},
   "outputs": [
    {
     "data": {
      "text/plain": [
       "8"
      ]
     },
     "execution_count": 17,
     "metadata": {},
     "output_type": "execute_result"
    }
   ],
   "source": [
    "threading.active_count()"
   ]
  },
  {
   "cell_type": "markdown",
   "id": "64d00ffb-e707-4149-a21d-ebcd23a6dba8",
   "metadata": {},
   "source": [
    "current_thread module is used to get the detail of current running thread."
   ]
  },
  {
   "cell_type": "code",
   "execution_count": 18,
   "id": "c73e5d85-1148-4df0-9768-4be7908a7111",
   "metadata": {},
   "outputs": [
    {
     "data": {
      "text/plain": [
       "<_MainThread(MainThread, started 140323663767360)>"
      ]
     },
     "execution_count": 18,
     "metadata": {},
     "output_type": "execute_result"
    }
   ],
   "source": [
    "threading.current_thread()"
   ]
  },
  {
   "cell_type": "markdown",
   "id": "b327ca85-8fef-424a-962c-22806c0375e6",
   "metadata": {},
   "source": [
    "Enumerate Return a list of all Thread objects currently active. The list includes daemonic threads and dummy thread objects created by current_thread(). It excludes terminated threads and threads that have not yet been started. However, the main thread is always part of the result, even when terminated."
   ]
  },
  {
   "cell_type": "code",
   "execution_count": 19,
   "id": "ee3bb651-e274-4ae9-8078-c700bf37677b",
   "metadata": {},
   "outputs": [
    {
     "data": {
      "text/plain": [
       "[<_MainThread(MainThread, started 140323663767360)>,\n",
       " <Thread(IOPub, started daemon 140323593238080)>,\n",
       " <Heartbeat(Heartbeat, started daemon 140323584845376)>,\n",
       " <Thread(Thread-3 (_watch_pipe_fd), started daemon 140323351160384)>,\n",
       " <Thread(Thread-4 (_watch_pipe_fd), started daemon 140323342767680)>,\n",
       " <ControlThread(Control, started daemon 140323334374976)>,\n",
       " <HistorySavingThread(IPythonHistorySavingThread, started 140323325982272)>,\n",
       " <ParentPollerUnix(Thread-2, started daemon 140323317589568)>]"
      ]
     },
     "execution_count": 19,
     "metadata": {},
     "output_type": "execute_result"
    }
   ],
   "source": [
    "threading.enumerate()"
   ]
  },
  {
   "cell_type": "markdown",
   "id": "9ceb4c13-10d5-434a-9e7d-f9f2c03d1373",
   "metadata": {},
   "source": [
    "## Q3"
   ]
  },
  {
   "cell_type": "markdown",
   "id": "9d899184-ac1a-4a17-8133-e5cab9b4e8ed",
   "metadata": {},
   "source": [
    "Once a thread object is created, its activity must be started by calling the thread’s start() method. This invokes the run() method in a separate thread of control.Once the thread’s activity is started, the thread is considered ‘alive’. It stops being alive when its run() method terminates – either normally, or by raising an unhandled exception."
   ]
  },
  {
   "cell_type": "markdown",
   "id": "f9c4061d-4ac9-4906-a161-77d1d68b16cf",
   "metadata": {},
   "source": [
    "run() method is used to run the thread once it is created by start method and run runs the function thread stops being alive."
   ]
  },
  {
   "cell_type": "markdown",
   "id": "5175712b-c8d3-425a-bb98-06798b22dd3e",
   "metadata": {},
   "source": [
    "join() method is used to release all the resources used by thread once it is completed"
   ]
  },
  {
   "cell_type": "markdown",
   "id": "a97d1586-4277-4179-9708-f61475a6ca9a",
   "metadata": {},
   "source": [
    "isAlive() method is used to Return whether the thread is alive.\n",
    "This method returns True just before the run() method starts until just after the run() method terminates. The module function enumerate() returns a list of all alive threads."
   ]
  },
  {
   "cell_type": "markdown",
   "id": "d1edf19c-1cc8-4416-944e-4bbc4b98c9c2",
   "metadata": {},
   "source": [
    "## Q4"
   ]
  },
  {
   "cell_type": "code",
   "execution_count": 21,
   "id": "93dac83a-bd06-4edf-9334-1dc10ea1a84b",
   "metadata": {},
   "outputs": [],
   "source": [
    "def square(l):\n",
    "    print(l**2)\n",
    "def cube(l):\n",
    "    print(l**3)"
   ]
  },
  {
   "cell_type": "code",
   "execution_count": 28,
   "id": "fe3de54e-190b-450f-ab1e-2e595a60f752",
   "metadata": {},
   "outputs": [],
   "source": [
    "lis=[1,2,3,4,5]\n",
    "t1 = [threading.Thread(target=square,args=(i,)) for i in lis]\n",
    "t2 = [threading.Thread(target=cube,args=(i,)) for i in lis]"
   ]
  },
  {
   "cell_type": "code",
   "execution_count": 29,
   "id": "da065779-03e8-4b13-b8f9-04a799fc9f4a",
   "metadata": {},
   "outputs": [],
   "source": [
    "list_new =[]\n",
    "list_new.append(t1)\n",
    "list_new.append(t2)"
   ]
  },
  {
   "cell_type": "code",
   "execution_count": 30,
   "id": "08bcb97c-1d15-4387-b0fa-503e7fbeb2c5",
   "metadata": {},
   "outputs": [
    {
     "name": "stdout",
     "output_type": "stream",
     "text": [
      "1\n",
      "4\n",
      "9\n",
      "16\n",
      "25\n",
      "1\n",
      "8\n",
      "27\n",
      "64\n",
      "125\n"
     ]
    }
   ],
   "source": [
    "for j in list_new:\n",
    "    for x in j:\n",
    "        x.start()\n",
    "        x.join()"
   ]
  },
  {
   "cell_type": "markdown",
   "id": "02ca8577-0852-44d5-9aa0-33ab88ddbd39",
   "metadata": {},
   "source": [
    "## Q5"
   ]
  },
  {
   "cell_type": "markdown",
   "id": "a513d504-8210-40fd-8b5d-80f8b6d7ed22",
   "metadata": {},
   "source": [
    "#### Advantages\n",
    "1) Enhanced performance by decreased development time\n",
    "2) Simplified and streamlined program coding\n",
    "3) Improvised GUI responsiveness\n",
    "4) Simultaneous and parallelized occurrence of tasks\n",
    "5) Better use of cache storage by utilization of resources\n",
    "6) Decreased cost of maintenance\n",
    "7) Better use of CPU resource"
   ]
  },
  {
   "cell_type": "markdown",
   "id": "e1ff8a30-fabf-4c07-8a81-3805fe6200c7",
   "metadata": {},
   "source": [
    "## Disadvantages\n",
    "1) Complex debugging and testing processes\n",
    "2) Overhead switching of context\n",
    "3) Increased potential for deadlock occurrence\n",
    "4) Increased difficulty level in writing a program\n",
    "5) Unpredictable results"
   ]
  },
  {
   "cell_type": "markdown",
   "id": "7d8c27f5-e48e-4499-b296-634dcf0517e4",
   "metadata": {},
   "source": [
    "## Q6"
   ]
  },
  {
   "cell_type": "markdown",
   "id": "b3054cb7-da55-4085-bf06-24678f082cd2",
   "metadata": {},
   "source": [
    "A race condition occurs when two threads try to access a shared variable simultaneously.The first thread reads the value from the shared variable. The second thread also reads the value from the same shared variable.Then both threads try to change the value of the shared variable. And they race to see which thread writes a value to the variable last.The value from the thread that writes to the shared variable last is preserved because it overwrites the value that the previous thread wrote."
   ]
  },
  {
   "cell_type": "code",
   "execution_count": 46,
   "id": "f9cd22bf-58d8-4550-bf82-34c843a76367",
   "metadata": {},
   "outputs": [],
   "source": [
    "## here is a code for race condition\n",
    "shared_var =10\n",
    "import time\n",
    "def increase_val(id):\n",
    "    global shared_var\n",
    "    shared_var +=10\n",
    "    print(f'{id} modified shared_var by {shared_var}')\n",
    "    time.sleep(1)"
   ]
  },
  {
   "cell_type": "code",
   "execution_count": 47,
   "id": "966c4be5-d686-4c72-b35d-2fa60b9ae9e0",
   "metadata": {},
   "outputs": [],
   "source": [
    "ther = threading.Thread(target=increase_val,args=(10,))\n",
    "ther2 = threading.Thread(target=increase_val,args=(20,))"
   ]
  },
  {
   "cell_type": "code",
   "execution_count": 48,
   "id": "707de112-7402-4c77-ae89-fef1ddbe4342",
   "metadata": {},
   "outputs": [
    {
     "name": "stdout",
     "output_type": "stream",
     "text": [
      "10 modified shared_var by 20\n",
      "20 modified shared_var by 30\n"
     ]
    }
   ],
   "source": [
    "ther.start()\n",
    "ther2.start()"
   ]
  },
  {
   "cell_type": "code",
   "execution_count": 49,
   "id": "eaf5e9bf-c314-403a-9297-ed5df4f2e798",
   "metadata": {},
   "outputs": [
    {
     "data": {
      "text/plain": [
       "30"
      ]
     },
     "execution_count": 49,
     "metadata": {},
     "output_type": "execute_result"
    }
   ],
   "source": [
    "shared_var"
   ]
  },
  {
   "cell_type": "code",
   "execution_count": 50,
   "id": "e48c0586-d6c8-40a9-b5b5-327efbe752f3",
   "metadata": {},
   "outputs": [],
   "source": [
    "ther.join()\n",
    "ther2.join()"
   ]
  },
  {
   "cell_type": "code",
   "execution_count": 51,
   "id": "470a89ca-531a-47fa-9f10-8075cdd498a0",
   "metadata": {},
   "outputs": [
    {
     "name": "stdout",
     "output_type": "stream",
     "text": [
      "Thread acquiring lock...\n",
      "Thread acquiring lock again...\n"
     ]
    },
    {
     "ename": "KeyboardInterrupt",
     "evalue": "",
     "output_type": "error",
     "traceback": [
      "\u001b[0;31m---------------------------------------------------------------------------\u001b[0m",
      "\u001b[0;31mKeyboardInterrupt\u001b[0m                         Traceback (most recent call last)",
      "Cell \u001b[0;32mIn[51], line 20\u001b[0m\n\u001b[1;32m     18\u001b[0m thread\u001b[38;5;241m.\u001b[39mstart()\n\u001b[1;32m     19\u001b[0m \u001b[38;5;66;03m# wait for threads to exit...\u001b[39;00m\n\u001b[0;32m---> 20\u001b[0m \u001b[43mthread\u001b[49m\u001b[38;5;241;43m.\u001b[39;49m\u001b[43mjoin\u001b[49m\u001b[43m(\u001b[49m\u001b[43m)\u001b[49m\n",
      "File \u001b[0;32m/opt/conda/lib/python3.10/threading.py:1096\u001b[0m, in \u001b[0;36mThread.join\u001b[0;34m(self, timeout)\u001b[0m\n\u001b[1;32m   1093\u001b[0m     \u001b[38;5;28;01mraise\u001b[39;00m \u001b[38;5;167;01mRuntimeError\u001b[39;00m(\u001b[38;5;124m\"\u001b[39m\u001b[38;5;124mcannot join current thread\u001b[39m\u001b[38;5;124m\"\u001b[39m)\n\u001b[1;32m   1095\u001b[0m \u001b[38;5;28;01mif\u001b[39;00m timeout \u001b[38;5;129;01mis\u001b[39;00m \u001b[38;5;28;01mNone\u001b[39;00m:\n\u001b[0;32m-> 1096\u001b[0m     \u001b[38;5;28;43mself\u001b[39;49m\u001b[38;5;241;43m.\u001b[39;49m\u001b[43m_wait_for_tstate_lock\u001b[49m\u001b[43m(\u001b[49m\u001b[43m)\u001b[49m\n\u001b[1;32m   1097\u001b[0m \u001b[38;5;28;01melse\u001b[39;00m:\n\u001b[1;32m   1098\u001b[0m     \u001b[38;5;66;03m# the behavior of a negative timeout isn't documented, but\u001b[39;00m\n\u001b[1;32m   1099\u001b[0m     \u001b[38;5;66;03m# historically .join(timeout=x) for x<0 has acted as if timeout=0\u001b[39;00m\n\u001b[1;32m   1100\u001b[0m     \u001b[38;5;28mself\u001b[39m\u001b[38;5;241m.\u001b[39m_wait_for_tstate_lock(timeout\u001b[38;5;241m=\u001b[39m\u001b[38;5;28mmax\u001b[39m(timeout, \u001b[38;5;241m0\u001b[39m))\n",
      "File \u001b[0;32m/opt/conda/lib/python3.10/threading.py:1116\u001b[0m, in \u001b[0;36mThread._wait_for_tstate_lock\u001b[0;34m(self, block, timeout)\u001b[0m\n\u001b[1;32m   1113\u001b[0m     \u001b[38;5;28;01mreturn\u001b[39;00m\n\u001b[1;32m   1115\u001b[0m \u001b[38;5;28;01mtry\u001b[39;00m:\n\u001b[0;32m-> 1116\u001b[0m     \u001b[38;5;28;01mif\u001b[39;00m \u001b[43mlock\u001b[49m\u001b[38;5;241;43m.\u001b[39;49m\u001b[43macquire\u001b[49m\u001b[43m(\u001b[49m\u001b[43mblock\u001b[49m\u001b[43m,\u001b[49m\u001b[43m \u001b[49m\u001b[43mtimeout\u001b[49m\u001b[43m)\u001b[49m:\n\u001b[1;32m   1117\u001b[0m         lock\u001b[38;5;241m.\u001b[39mrelease()\n\u001b[1;32m   1118\u001b[0m         \u001b[38;5;28mself\u001b[39m\u001b[38;5;241m.\u001b[39m_stop()\n",
      "\u001b[0;31mKeyboardInterrupt\u001b[0m: "
     ]
    }
   ],
   "source": [
    "from threading import Thread\n",
    "from threading import Lock\n",
    " \n",
    "# task to be executed in a new thread\n",
    "def task(lock):\n",
    "    print('Thread acquiring lock...')\n",
    "    with lock:\n",
    "        print('Thread acquiring lock again...')\n",
    "        with lock:\n",
    "            # will never get here\n",
    "            pass\n",
    " \n",
    "# create the mutex lock\n",
    "lock = Lock()\n",
    "# create and configure the new thread\n",
    "thread = Thread(target=task, args=(lock,))\n",
    "# start the new thread\n",
    "thread.start()\n",
    "# wait for threads to exit...\n",
    "thread.join()"
   ]
  },
  {
   "cell_type": "code",
   "execution_count": null,
   "id": "8192bd54-d030-4738-9440-f493327ceb33",
   "metadata": {},
   "outputs": [],
   "source": []
  }
 ],
 "metadata": {
  "kernelspec": {
   "display_name": "Python 3 (ipykernel)",
   "language": "python",
   "name": "python3"
  },
  "language_info": {
   "codemirror_mode": {
    "name": "ipython",
    "version": 3
   },
   "file_extension": ".py",
   "mimetype": "text/x-python",
   "name": "python",
   "nbconvert_exporter": "python",
   "pygments_lexer": "ipython3",
   "version": "3.10.8"
  }
 },
 "nbformat": 4,
 "nbformat_minor": 5
}
